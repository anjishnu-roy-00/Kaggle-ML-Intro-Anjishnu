{
 "cells": [
  {
   "cell_type": "markdown",
   "id": "48876a0f",
   "metadata": {
    "papermill": {
     "duration": 0.004669,
     "end_time": "2022-07-13T07:56:23.995264",
     "exception": false,
     "start_time": "2022-07-13T07:56:23.990595",
     "status": "completed"
    },
    "tags": []
   },
   "source": [
    "**This notebook is an exercise in the [Introduction to Machine Learning](https://www.kaggle.com/learn/intro-to-machine-learning) course.  You can reference the tutorial at [this link](https://www.kaggle.com/dansbecker/model-validation).**\n",
    "\n",
    "---\n"
   ]
  },
  {
   "cell_type": "markdown",
   "id": "d0084798",
   "metadata": {
    "papermill": {
     "duration": 0.003485,
     "end_time": "2022-07-13T07:56:24.002758",
     "exception": false,
     "start_time": "2022-07-13T07:56:23.999273",
     "status": "completed"
    },
    "tags": []
   },
   "source": [
    "## Recap\n",
    "You've built a model. In this exercise you will test how good your model is.\n",
    "\n",
    "Run the cell below to set up your coding environment where the previous exercise left off."
   ]
  },
  {
   "cell_type": "code",
   "execution_count": 1,
   "id": "03c0ccf0",
   "metadata": {
    "execution": {
     "iopub.execute_input": "2022-07-13T07:56:24.012676Z",
     "iopub.status.busy": "2022-07-13T07:56:24.011835Z",
     "iopub.status.idle": "2022-07-13T07:56:25.433958Z",
     "shell.execute_reply": "2022-07-13T07:56:25.432637Z"
    },
    "papermill": {
     "duration": 1.430195,
     "end_time": "2022-07-13T07:56:25.436664",
     "exception": false,
     "start_time": "2022-07-13T07:56:24.006469",
     "status": "completed"
    },
    "tags": []
   },
   "outputs": [
    {
     "name": "stdout",
     "output_type": "stream",
     "text": [
      "First in-sample predictions: [208500. 181500. 223500. 140000. 250000.]\n",
      "Actual target values for those homes: [208500, 181500, 223500, 140000, 250000]\n",
      "Setup Complete\n"
     ]
    }
   ],
   "source": [
    "# Code you have previously used to load data\n",
    "import pandas as pd\n",
    "from sklearn.tree import DecisionTreeRegressor\n",
    "\n",
    "# Path of the file to read\n",
    "iowa_file_path = '../input/home-data-for-ml-course/train.csv'\n",
    "\n",
    "home_data = pd.read_csv(iowa_file_path)\n",
    "y = home_data.SalePrice\n",
    "feature_columns = ['LotArea', 'YearBuilt', '1stFlrSF', '2ndFlrSF', 'FullBath', 'BedroomAbvGr', 'TotRmsAbvGrd']\n",
    "X = home_data[feature_columns]\n",
    "\n",
    "# Specify Model\n",
    "iowa_model = DecisionTreeRegressor()\n",
    "# Fit Model\n",
    "iowa_model.fit(X, y)\n",
    "\n",
    "print(\"First in-sample predictions:\", iowa_model.predict(X.head()))\n",
    "print(\"Actual target values for those homes:\", y.head().tolist())\n",
    "\n",
    "# Set up code checking\n",
    "from learntools.core import binder\n",
    "binder.bind(globals())\n",
    "from learntools.machine_learning.ex4 import *\n",
    "print(\"Setup Complete\")"
   ]
  },
  {
   "cell_type": "markdown",
   "id": "b05cdff6",
   "metadata": {
    "papermill": {
     "duration": 0.003489,
     "end_time": "2022-07-13T07:56:25.444250",
     "exception": false,
     "start_time": "2022-07-13T07:56:25.440761",
     "status": "completed"
    },
    "tags": []
   },
   "source": [
    "# Exercises\n",
    "\n",
    "## Step 1: Split Your Data\n",
    "Use the `train_test_split` function to split up your data.\n",
    "\n",
    "Give it the argument `random_state=1` so the `check` functions know what to expect when verifying your code.\n",
    "\n",
    "Recall, your features are loaded in the DataFrame **X** and your target is loaded in **y**.\n"
   ]
  },
  {
   "cell_type": "code",
   "execution_count": 2,
   "id": "99d99041",
   "metadata": {
    "execution": {
     "iopub.execute_input": "2022-07-13T07:56:25.454025Z",
     "iopub.status.busy": "2022-07-13T07:56:25.453028Z",
     "iopub.status.idle": "2022-07-13T07:56:25.468890Z",
     "shell.execute_reply": "2022-07-13T07:56:25.467712Z"
    },
    "papermill": {
     "duration": 0.023208,
     "end_time": "2022-07-13T07:56:25.471216",
     "exception": false,
     "start_time": "2022-07-13T07:56:25.448008",
     "status": "completed"
    },
    "tags": []
   },
   "outputs": [
    {
     "data": {
      "application/javascript": [
       "parent.postMessage({\"jupyterEvent\": \"custom.exercise_interaction\", \"data\": {\"outcomeType\": 1, \"valueTowardsCompletion\": 0.25, \"interactionType\": 1, \"questionType\": 2, \"questionId\": \"1_SplitData\", \"learnToolsVersion\": \"0.3.4\", \"failureMessage\": \"\", \"exceptionClass\": \"\", \"trace\": \"\"}}, \"*\")"
      ],
      "text/plain": [
       "<IPython.core.display.Javascript object>"
      ]
     },
     "metadata": {},
     "output_type": "display_data"
    },
    {
     "data": {
      "text/markdown": [
       "<span style=\"color:#33cc33\">Correct</span>"
      ],
      "text/plain": [
       "Correct"
      ]
     },
     "metadata": {},
     "output_type": "display_data"
    }
   ],
   "source": [
    "# Import the train_test_split function and uncomment\n",
    "from sklearn.model_selection import train_test_split\n",
    "\n",
    "# fill in and uncomment\n",
    "train_X, val_X, train_y, val_y = train_test_split(X,y,random_state=1)\n",
    "\n",
    "# Check your answer\n",
    "step_1.check()"
   ]
  },
  {
   "cell_type": "code",
   "execution_count": 3,
   "id": "7a5b6103",
   "metadata": {
    "execution": {
     "iopub.execute_input": "2022-07-13T07:56:25.480679Z",
     "iopub.status.busy": "2022-07-13T07:56:25.480311Z",
     "iopub.status.idle": "2022-07-13T07:56:25.484442Z",
     "shell.execute_reply": "2022-07-13T07:56:25.483522Z"
    },
    "papermill": {
     "duration": 0.011146,
     "end_time": "2022-07-13T07:56:25.486387",
     "exception": false,
     "start_time": "2022-07-13T07:56:25.475241",
     "status": "completed"
    },
    "tags": []
   },
   "outputs": [],
   "source": [
    "# The lines below will show you a hint or the solution.\n",
    "# step_1.hint() \n",
    "# step_1.solution()\n"
   ]
  },
  {
   "cell_type": "markdown",
   "id": "0b01f06f",
   "metadata": {
    "papermill": {
     "duration": 0.003738,
     "end_time": "2022-07-13T07:56:25.494161",
     "exception": false,
     "start_time": "2022-07-13T07:56:25.490423",
     "status": "completed"
    },
    "tags": []
   },
   "source": [
    "## Step 2: Specify and Fit the Model\n",
    "\n",
    "Create a `DecisionTreeRegressor` model and fit it to the relevant data.\n",
    "Set `random_state` to 1 again when creating the model."
   ]
  },
  {
   "cell_type": "code",
   "execution_count": 4,
   "id": "f44f0f36",
   "metadata": {
    "execution": {
     "iopub.execute_input": "2022-07-13T07:56:25.503901Z",
     "iopub.status.busy": "2022-07-13T07:56:25.503492Z",
     "iopub.status.idle": "2022-07-13T07:56:25.529596Z",
     "shell.execute_reply": "2022-07-13T07:56:25.528571Z"
    },
    "papermill": {
     "duration": 0.033641,
     "end_time": "2022-07-13T07:56:25.531754",
     "exception": false,
     "start_time": "2022-07-13T07:56:25.498113",
     "status": "completed"
    },
    "tags": []
   },
   "outputs": [
    {
     "name": "stdout",
     "output_type": "stream",
     "text": [
      "[186500. 184000. 130000.  92000. 164500. 220000. 335000. 144152. 215000.\n",
      " 262000.]\n",
      "[186500. 184000. 130000.  92000. 164500. 220000. 335000. 144152. 215000.\n",
      " 262000.]\n"
     ]
    },
    {
     "data": {
      "application/javascript": [
       "parent.postMessage({\"jupyterEvent\": \"custom.exercise_interaction\", \"data\": {\"outcomeType\": 1, \"valueTowardsCompletion\": 0.25, \"interactionType\": 1, \"questionType\": 2, \"questionId\": \"2_FitModelWithTrain\", \"learnToolsVersion\": \"0.3.4\", \"failureMessage\": \"\", \"exceptionClass\": \"\", \"trace\": \"\"}}, \"*\")"
      ],
      "text/plain": [
       "<IPython.core.display.Javascript object>"
      ]
     },
     "metadata": {},
     "output_type": "display_data"
    },
    {
     "data": {
      "text/markdown": [
       "<span style=\"color:#33cc33\">Correct</span>"
      ],
      "text/plain": [
       "Correct"
      ]
     },
     "metadata": {},
     "output_type": "display_data"
    }
   ],
   "source": [
    "# You imported DecisionTreeRegressor in your last exercise\n",
    "# and that code has been copied to the setup code above. So, no need to\n",
    "# import it again\n",
    "\n",
    "# Specify the model\n",
    "iowa_model = DecisionTreeRegressor(random_state=1)\n",
    "\n",
    "# Fit iowa_model with the training data.\n",
    "iowa_model.fit(train_X, train_y)\n",
    "\n",
    "# Check your answer\n",
    "step_2.check()"
   ]
  },
  {
   "cell_type": "code",
   "execution_count": 5,
   "id": "15614f32",
   "metadata": {
    "execution": {
     "iopub.execute_input": "2022-07-13T07:56:25.541782Z",
     "iopub.status.busy": "2022-07-13T07:56:25.541392Z",
     "iopub.status.idle": "2022-07-13T07:56:25.545868Z",
     "shell.execute_reply": "2022-07-13T07:56:25.544812Z"
    },
    "papermill": {
     "duration": 0.012322,
     "end_time": "2022-07-13T07:56:25.548276",
     "exception": false,
     "start_time": "2022-07-13T07:56:25.535954",
     "status": "completed"
    },
    "tags": []
   },
   "outputs": [],
   "source": [
    "# step_2.hint()\n",
    "# step_2.solution()"
   ]
  },
  {
   "cell_type": "markdown",
   "id": "df006caf",
   "metadata": {
    "papermill": {
     "duration": 0.003936,
     "end_time": "2022-07-13T07:56:25.556496",
     "exception": false,
     "start_time": "2022-07-13T07:56:25.552560",
     "status": "completed"
    },
    "tags": []
   },
   "source": [
    "## Step 3: Make Predictions with Validation data\n"
   ]
  },
  {
   "cell_type": "code",
   "execution_count": 6,
   "id": "1fef8b21",
   "metadata": {
    "execution": {
     "iopub.execute_input": "2022-07-13T07:56:25.567468Z",
     "iopub.status.busy": "2022-07-13T07:56:25.567069Z",
     "iopub.status.idle": "2022-07-13T07:56:25.579123Z",
     "shell.execute_reply": "2022-07-13T07:56:25.577971Z"
    },
    "papermill": {
     "duration": 0.019911,
     "end_time": "2022-07-13T07:56:25.581339",
     "exception": false,
     "start_time": "2022-07-13T07:56:25.561428",
     "status": "completed"
    },
    "tags": []
   },
   "outputs": [
    {
     "data": {
      "application/javascript": [
       "parent.postMessage({\"jupyterEvent\": \"custom.exercise_interaction\", \"data\": {\"outcomeType\": 1, \"valueTowardsCompletion\": 0.25, \"interactionType\": 1, \"questionType\": 2, \"questionId\": \"3_ValPreds\", \"learnToolsVersion\": \"0.3.4\", \"failureMessage\": \"\", \"exceptionClass\": \"\", \"trace\": \"\"}}, \"*\")"
      ],
      "text/plain": [
       "<IPython.core.display.Javascript object>"
      ]
     },
     "metadata": {},
     "output_type": "display_data"
    },
    {
     "data": {
      "text/markdown": [
       "<span style=\"color:#33cc33\">Correct</span>"
      ],
      "text/plain": [
       "Correct"
      ]
     },
     "metadata": {},
     "output_type": "display_data"
    }
   ],
   "source": [
    "# Predict with all validation observations\n",
    "val_predictions = iowa_model.predict(val_X)\n",
    "\n",
    "# Check your answer\n",
    "step_3.check()"
   ]
  },
  {
   "cell_type": "code",
   "execution_count": 7,
   "id": "ebc74472",
   "metadata": {
    "execution": {
     "iopub.execute_input": "2022-07-13T07:56:25.591761Z",
     "iopub.status.busy": "2022-07-13T07:56:25.591350Z",
     "iopub.status.idle": "2022-07-13T07:56:25.595963Z",
     "shell.execute_reply": "2022-07-13T07:56:25.594903Z"
    },
    "papermill": {
     "duration": 0.012297,
     "end_time": "2022-07-13T07:56:25.598132",
     "exception": false,
     "start_time": "2022-07-13T07:56:25.585835",
     "status": "completed"
    },
    "tags": []
   },
   "outputs": [],
   "source": [
    "# step_3.hint()\n",
    "# step_3.solution()"
   ]
  },
  {
   "cell_type": "markdown",
   "id": "75101c85",
   "metadata": {
    "papermill": {
     "duration": 0.004165,
     "end_time": "2022-07-13T07:56:25.607095",
     "exception": false,
     "start_time": "2022-07-13T07:56:25.602930",
     "status": "completed"
    },
    "tags": []
   },
   "source": [
    "Inspect your predictions and actual values from validation data."
   ]
  },
  {
   "cell_type": "code",
   "execution_count": 8,
   "id": "f56817d4",
   "metadata": {
    "execution": {
     "iopub.execute_input": "2022-07-13T07:56:25.617557Z",
     "iopub.status.busy": "2022-07-13T07:56:25.617161Z",
     "iopub.status.idle": "2022-07-13T07:56:25.625103Z",
     "shell.execute_reply": "2022-07-13T07:56:25.623881Z"
    },
    "papermill": {
     "duration": 0.0157,
     "end_time": "2022-07-13T07:56:25.627235",
     "exception": false,
     "start_time": "2022-07-13T07:56:25.611535",
     "status": "completed"
    },
    "tags": []
   },
   "outputs": [
    {
     "name": "stdout",
     "output_type": "stream",
     "text": [
      "[186500. 184000. 130000.  92000. 164500.]\n",
      "258     231500\n",
      "267     179500\n",
      "288     122000\n",
      "649      84500\n",
      "1233    142000\n",
      "Name: SalePrice, dtype: int64\n",
      "0    208500\n",
      "1    181500\n",
      "2    223500\n",
      "3    140000\n",
      "4    250000\n",
      "Name: SalePrice, dtype: int64\n"
     ]
    }
   ],
   "source": [
    "# print the top few validation predictions\n",
    "print(val_predictions[0:5])\n",
    "# print the top few actual prices from validation data\n",
    "print(val_y[0:5])\n",
    "print(home_data.SalePrice.head(5))"
   ]
  },
  {
   "cell_type": "markdown",
   "id": "40b06e58",
   "metadata": {
    "papermill": {
     "duration": 0.004235,
     "end_time": "2022-07-13T07:56:25.636012",
     "exception": false,
     "start_time": "2022-07-13T07:56:25.631777",
     "status": "completed"
    },
    "tags": []
   },
   "source": [
    "What do you notice that is different from what you saw with in-sample predictions (which are printed after the top code cell in this page).\n",
    "\n",
    "Do you remember why validation predictions differ from in-sample (or training) predictions? This is an important idea from the last lesson.\n",
    "\n",
    "## Step 4: Calculate the Mean Absolute Error in Validation Data\n"
   ]
  },
  {
   "cell_type": "code",
   "execution_count": 9,
   "id": "e73cf87c",
   "metadata": {
    "execution": {
     "iopub.execute_input": "2022-07-13T07:56:25.647276Z",
     "iopub.status.busy": "2022-07-13T07:56:25.646932Z",
     "iopub.status.idle": "2022-07-13T07:56:25.656242Z",
     "shell.execute_reply": "2022-07-13T07:56:25.654971Z"
    },
    "papermill": {
     "duration": 0.017826,
     "end_time": "2022-07-13T07:56:25.658455",
     "exception": false,
     "start_time": "2022-07-13T07:56:25.640629",
     "status": "completed"
    },
    "tags": []
   },
   "outputs": [
    {
     "name": "stdout",
     "output_type": "stream",
     "text": [
      "29652.931506849316\n"
     ]
    },
    {
     "data": {
      "application/javascript": [
       "parent.postMessage({\"jupyterEvent\": \"custom.exercise_interaction\", \"data\": {\"outcomeType\": 1, \"valueTowardsCompletion\": 0.25, \"interactionType\": 1, \"questionType\": 1, \"questionId\": \"4_MAE\", \"learnToolsVersion\": \"0.3.4\", \"failureMessage\": \"\", \"exceptionClass\": \"\", \"trace\": \"\"}}, \"*\")"
      ],
      "text/plain": [
       "<IPython.core.display.Javascript object>"
      ]
     },
     "metadata": {},
     "output_type": "display_data"
    },
    {
     "data": {
      "text/markdown": [
       "<span style=\"color:#33cc33\">Correct</span>"
      ],
      "text/plain": [
       "Correct"
      ]
     },
     "metadata": {},
     "output_type": "display_data"
    }
   ],
   "source": [
    "from sklearn.metrics import mean_absolute_error\n",
    "val_mae = mean_absolute_error(val_y, val_predictions)\n",
    "\n",
    "# uncomment following line to see the validation_mae\n",
    "print(val_mae)\n",
    "\n",
    "# Check your answer\n",
    "step_4.check()"
   ]
  },
  {
   "cell_type": "code",
   "execution_count": 10,
   "id": "290637b5",
   "metadata": {
    "execution": {
     "iopub.execute_input": "2022-07-13T07:56:25.669832Z",
     "iopub.status.busy": "2022-07-13T07:56:25.669464Z",
     "iopub.status.idle": "2022-07-13T07:56:25.673716Z",
     "shell.execute_reply": "2022-07-13T07:56:25.672676Z"
    },
    "papermill": {
     "duration": 0.012452,
     "end_time": "2022-07-13T07:56:25.675695",
     "exception": false,
     "start_time": "2022-07-13T07:56:25.663243",
     "status": "completed"
    },
    "tags": []
   },
   "outputs": [],
   "source": [
    "# step_4.hint()\n",
    "# step_4.solution()"
   ]
  },
  {
   "cell_type": "markdown",
   "id": "505389aa",
   "metadata": {
    "papermill": {
     "duration": 0.004497,
     "end_time": "2022-07-13T07:56:25.684939",
     "exception": false,
     "start_time": "2022-07-13T07:56:25.680442",
     "status": "completed"
    },
    "tags": []
   },
   "source": [
    "Is that MAE good?  There isn't a general rule for what values are good that applies across applications. But you'll see how to use (and improve) this number in the next step.\n",
    "\n",
    "# Keep Going\n",
    "\n",
    "You are ready for **[Underfitting and Overfitting](https://www.kaggle.com/dansbecker/underfitting-and-overfitting).**\n"
   ]
  },
  {
   "cell_type": "markdown",
   "id": "a2be2e68",
   "metadata": {
    "papermill": {
     "duration": 0.004595,
     "end_time": "2022-07-13T07:56:25.694335",
     "exception": false,
     "start_time": "2022-07-13T07:56:25.689740",
     "status": "completed"
    },
    "tags": []
   },
   "source": [
    "---\n",
    "\n",
    "\n",
    "\n",
    "\n",
    "*Have questions or comments? Visit the [course discussion forum](https://www.kaggle.com/learn/intro-to-machine-learning/discussion) to chat with other learners.*"
   ]
  }
 ],
 "metadata": {
  "kernelspec": {
   "display_name": "Python 3",
   "language": "python",
   "name": "python3"
  },
  "language_info": {
   "codemirror_mode": {
    "name": "ipython",
    "version": 3
   },
   "file_extension": ".py",
   "mimetype": "text/x-python",
   "name": "python",
   "nbconvert_exporter": "python",
   "pygments_lexer": "ipython3",
   "version": "3.7.12"
  },
  "papermill": {
   "default_parameters": {},
   "duration": 11.522122,
   "end_time": "2022-07-13T07:56:26.421420",
   "environment_variables": {},
   "exception": null,
   "input_path": "__notebook__.ipynb",
   "output_path": "__notebook__.ipynb",
   "parameters": {},
   "start_time": "2022-07-13T07:56:14.899298",
   "version": "2.3.4"
  }
 },
 "nbformat": 4,
 "nbformat_minor": 5
}
