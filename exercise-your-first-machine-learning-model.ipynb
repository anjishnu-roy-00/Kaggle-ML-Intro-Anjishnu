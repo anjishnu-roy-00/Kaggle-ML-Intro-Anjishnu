{
 "cells": [
  {
   "cell_type": "markdown",
   "id": "91b45a5f",
   "metadata": {
    "papermill": {
     "duration": 0.011525,
     "end_time": "2022-07-13T06:58:47.878841",
     "exception": false,
     "start_time": "2022-07-13T06:58:47.867316",
     "status": "completed"
    },
    "tags": []
   },
   "source": [
    "**This notebook is an exercise in the [Introduction to Machine Learning](https://www.kaggle.com/learn/intro-to-machine-learning) course.  You can reference the tutorial at [this link](https://www.kaggle.com/dansbecker/your-first-machine-learning-model).**\n",
    "\n",
    "---\n"
   ]
  },
  {
   "cell_type": "markdown",
   "id": "5b315ffa",
   "metadata": {
    "papermill": {
     "duration": 0.005006,
     "end_time": "2022-07-13T06:58:47.889421",
     "exception": false,
     "start_time": "2022-07-13T06:58:47.884415",
     "status": "completed"
    },
    "tags": []
   },
   "source": [
    "## Recap\n",
    "So far, you have loaded your data and reviewed it with the following code. Run this cell to set up your coding environment where the previous step left off."
   ]
  },
  {
   "cell_type": "code",
   "execution_count": 1,
   "id": "9f12a976",
   "metadata": {
    "execution": {
     "iopub.execute_input": "2022-07-13T06:58:47.901898Z",
     "iopub.status.busy": "2022-07-13T06:58:47.901568Z",
     "iopub.status.idle": "2022-07-13T06:58:50.634842Z",
     "shell.execute_reply": "2022-07-13T06:58:50.630539Z"
    },
    "papermill": {
     "duration": 2.743709,
     "end_time": "2022-07-13T06:58:50.638841",
     "exception": false,
     "start_time": "2022-07-13T06:58:47.895132",
     "status": "completed"
    },
    "tags": []
   },
   "outputs": [
    {
     "name": "stdout",
     "output_type": "stream",
     "text": [
      "Setup Complete\n"
     ]
    }
   ],
   "source": [
    "# Code you have previously used to load data\n",
    "import pandas as pd\n",
    "\n",
    "# Path of the file to read\n",
    "iowa_file_path = '../input/home-data-for-ml-course/train.csv'\n",
    "\n",
    "home_data = pd.read_csv(iowa_file_path)\n",
    "\n",
    "# Set up code checking\n",
    "from learntools.core import binder\n",
    "binder.bind(globals())\n",
    "from learntools.machine_learning.ex3 import *\n",
    "\n",
    "print(\"Setup Complete\")"
   ]
  },
  {
   "cell_type": "markdown",
   "id": "964df1b0",
   "metadata": {
    "papermill": {
     "duration": 0.006458,
     "end_time": "2022-07-13T06:58:50.652640",
     "exception": false,
     "start_time": "2022-07-13T06:58:50.646182",
     "status": "completed"
    },
    "tags": []
   },
   "source": [
    "# Exercises\n",
    "\n",
    "## Step 1: Specify Prediction Target\n",
    "Select the target variable, which corresponds to the sales price. Save this to a new variable called `y`. You'll need to print a list of the columns to find the name of the column you need.\n"
   ]
  },
  {
   "cell_type": "code",
   "execution_count": 2,
   "id": "4238bd51",
   "metadata": {
    "execution": {
     "iopub.execute_input": "2022-07-13T06:58:50.668680Z",
     "iopub.status.busy": "2022-07-13T06:58:50.667306Z",
     "iopub.status.idle": "2022-07-13T06:58:50.681702Z",
     "shell.execute_reply": "2022-07-13T06:58:50.679784Z"
    },
    "papermill": {
     "duration": 0.025076,
     "end_time": "2022-07-13T06:58:50.684452",
     "exception": false,
     "start_time": "2022-07-13T06:58:50.659376",
     "status": "completed"
    },
    "tags": []
   },
   "outputs": [
    {
     "data": {
      "text/plain": [
       "Index(['Id', 'MSSubClass', 'MSZoning', 'LotFrontage', 'LotArea', 'Street',\n",
       "       'Alley', 'LotShape', 'LandContour', 'Utilities', 'LotConfig',\n",
       "       'LandSlope', 'Neighborhood', 'Condition1', 'Condition2', 'BldgType',\n",
       "       'HouseStyle', 'OverallQual', 'OverallCond', 'YearBuilt', 'YearRemodAdd',\n",
       "       'RoofStyle', 'RoofMatl', 'Exterior1st', 'Exterior2nd', 'MasVnrType',\n",
       "       'MasVnrArea', 'ExterQual', 'ExterCond', 'Foundation', 'BsmtQual',\n",
       "       'BsmtCond', 'BsmtExposure', 'BsmtFinType1', 'BsmtFinSF1',\n",
       "       'BsmtFinType2', 'BsmtFinSF2', 'BsmtUnfSF', 'TotalBsmtSF', 'Heating',\n",
       "       'HeatingQC', 'CentralAir', 'Electrical', '1stFlrSF', '2ndFlrSF',\n",
       "       'LowQualFinSF', 'GrLivArea', 'BsmtFullBath', 'BsmtHalfBath', 'FullBath',\n",
       "       'HalfBath', 'BedroomAbvGr', 'KitchenAbvGr', 'KitchenQual',\n",
       "       'TotRmsAbvGrd', 'Functional', 'Fireplaces', 'FireplaceQu', 'GarageType',\n",
       "       'GarageYrBlt', 'GarageFinish', 'GarageCars', 'GarageArea', 'GarageQual',\n",
       "       'GarageCond', 'PavedDrive', 'WoodDeckSF', 'OpenPorchSF',\n",
       "       'EnclosedPorch', '3SsnPorch', 'ScreenPorch', 'PoolArea', 'PoolQC',\n",
       "       'Fence', 'MiscFeature', 'MiscVal', 'MoSold', 'YrSold', 'SaleType',\n",
       "       'SaleCondition', 'SalePrice'],\n",
       "      dtype='object')"
      ]
     },
     "execution_count": 2,
     "metadata": {},
     "output_type": "execute_result"
    }
   ],
   "source": [
    "# print the list of columns in the dataset to find the name of the prediction target\n",
    "home_data.columns"
   ]
  },
  {
   "cell_type": "code",
   "execution_count": 3,
   "id": "e09d97ad",
   "metadata": {
    "execution": {
     "iopub.execute_input": "2022-07-13T06:58:50.695380Z",
     "iopub.status.busy": "2022-07-13T06:58:50.694915Z",
     "iopub.status.idle": "2022-07-13T06:58:50.715348Z",
     "shell.execute_reply": "2022-07-13T06:58:50.712832Z"
    },
    "papermill": {
     "duration": 0.028283,
     "end_time": "2022-07-13T06:58:50.717532",
     "exception": false,
     "start_time": "2022-07-13T06:58:50.689249",
     "status": "completed"
    },
    "tags": []
   },
   "outputs": [
    {
     "data": {
      "application/javascript": [
       "parent.postMessage({\"jupyterEvent\": \"custom.exercise_interaction\", \"data\": {\"outcomeType\": 1, \"valueTowardsCompletion\": 0.25, \"interactionType\": 1, \"questionType\": 2, \"questionId\": \"1_SetTarget\", \"learnToolsVersion\": \"0.3.4\", \"failureMessage\": \"\", \"exceptionClass\": \"\", \"trace\": \"\"}}, \"*\")"
      ],
      "text/plain": [
       "<IPython.core.display.Javascript object>"
      ]
     },
     "metadata": {},
     "output_type": "display_data"
    },
    {
     "data": {
      "text/markdown": [
       "<span style=\"color:#33cc33\">Correct</span>"
      ],
      "text/plain": [
       "Correct"
      ]
     },
     "metadata": {},
     "output_type": "display_data"
    }
   ],
   "source": [
    "y = home_data.SalePrice\n",
    "\n",
    "# Check your answer\n",
    "step_1.check()"
   ]
  },
  {
   "cell_type": "code",
   "execution_count": 4,
   "id": "a4b21f65",
   "metadata": {
    "execution": {
     "iopub.execute_input": "2022-07-13T06:58:50.730117Z",
     "iopub.status.busy": "2022-07-13T06:58:50.729492Z",
     "iopub.status.idle": "2022-07-13T06:58:50.733896Z",
     "shell.execute_reply": "2022-07-13T06:58:50.732941Z"
    },
    "papermill": {
     "duration": 0.014118,
     "end_time": "2022-07-13T06:58:50.737311",
     "exception": false,
     "start_time": "2022-07-13T06:58:50.723193",
     "status": "completed"
    },
    "tags": []
   },
   "outputs": [],
   "source": [
    "# The lines below will show you a hint or the solution.\n",
    "# step_1.hint() \n",
    "# step_1.solution()"
   ]
  },
  {
   "cell_type": "markdown",
   "id": "e82999d3",
   "metadata": {
    "papermill": {
     "duration": 0.007689,
     "end_time": "2022-07-13T06:58:50.753809",
     "exception": false,
     "start_time": "2022-07-13T06:58:50.746120",
     "status": "completed"
    },
    "tags": []
   },
   "source": [
    "## Step 2: Create X\n",
    "Now you will create a DataFrame called `X` holding the predictive features.\n",
    "\n",
    "Since you want only some columns from the original data, you'll first create a list with the names of the columns you want in `X`.\n",
    "\n",
    "You'll use just the following columns in the list (you can copy and paste the whole list to save some typing, though you'll still need to add quotes):\n",
    "  * LotArea\n",
    "  * YearBuilt\n",
    "  * 1stFlrSF\n",
    "  * 2ndFlrSF\n",
    "  * FullBath\n",
    "  * BedroomAbvGr\n",
    "  * TotRmsAbvGrd\n",
    "\n",
    "After you've created that list of features, use it to create the DataFrame that you'll use to fit the model."
   ]
  },
  {
   "cell_type": "code",
   "execution_count": 5,
   "id": "4d5a3956",
   "metadata": {
    "execution": {
     "iopub.execute_input": "2022-07-13T06:58:50.770570Z",
     "iopub.status.busy": "2022-07-13T06:58:50.770247Z",
     "iopub.status.idle": "2022-07-13T06:58:50.790862Z",
     "shell.execute_reply": "2022-07-13T06:58:50.787794Z"
    },
    "papermill": {
     "duration": 0.032409,
     "end_time": "2022-07-13T06:58:50.793937",
     "exception": false,
     "start_time": "2022-07-13T06:58:50.761528",
     "status": "completed"
    },
    "tags": []
   },
   "outputs": [
    {
     "data": {
      "application/javascript": [
       "parent.postMessage({\"jupyterEvent\": \"custom.exercise_interaction\", \"data\": {\"outcomeType\": 1, \"valueTowardsCompletion\": 0.25, \"interactionType\": 1, \"questionType\": 2, \"questionId\": \"2_SelectPredictionData\", \"learnToolsVersion\": \"0.3.4\", \"failureMessage\": \"\", \"exceptionClass\": \"\", \"trace\": \"\"}}, \"*\")"
      ],
      "text/plain": [
       "<IPython.core.display.Javascript object>"
      ]
     },
     "metadata": {},
     "output_type": "display_data"
    },
    {
     "data": {
      "text/markdown": [
       "<span style=\"color:#33cc33\">Correct</span>"
      ],
      "text/plain": [
       "Correct"
      ]
     },
     "metadata": {},
     "output_type": "display_data"
    }
   ],
   "source": [
    "# Create the list of features below\n",
    "feature_names = [\"LotArea\",\"YearBuilt\",\"1stFlrSF\",\"2ndFlrSF\",\"FullBath\",\"BedroomAbvGr\",\"TotRmsAbvGrd\"]\n",
    "\n",
    "# Select data corresponding to features in feature_names\n",
    "X = home_data[feature_names]\n",
    "\n",
    "# Check your answer\n",
    "step_2.check()"
   ]
  },
  {
   "cell_type": "code",
   "execution_count": 6,
   "id": "43b50b2b",
   "metadata": {
    "collapsed": true,
    "execution": {
     "iopub.execute_input": "2022-07-13T06:58:50.806772Z",
     "iopub.status.busy": "2022-07-13T06:58:50.806210Z",
     "iopub.status.idle": "2022-07-13T06:58:50.814368Z",
     "shell.execute_reply": "2022-07-13T06:58:50.811839Z"
    },
    "jupyter": {
     "outputs_hidden": true
    },
    "papermill": {
     "duration": 0.021344,
     "end_time": "2022-07-13T06:58:50.820173",
     "exception": false,
     "start_time": "2022-07-13T06:58:50.798829",
     "status": "completed"
    },
    "tags": []
   },
   "outputs": [],
   "source": [
    "# step_2.hint()\n",
    "# step_2.solution()"
   ]
  },
  {
   "cell_type": "markdown",
   "id": "aed0a3c4",
   "metadata": {
    "papermill": {
     "duration": 0.005294,
     "end_time": "2022-07-13T06:58:50.831579",
     "exception": false,
     "start_time": "2022-07-13T06:58:50.826285",
     "status": "completed"
    },
    "tags": []
   },
   "source": [
    "## Review Data\n",
    "Before building a model, take a quick look at **X** to verify it looks sensible"
   ]
  },
  {
   "cell_type": "code",
   "execution_count": 7,
   "id": "d30dacab",
   "metadata": {
    "execution": {
     "iopub.execute_input": "2022-07-13T06:58:50.845658Z",
     "iopub.status.busy": "2022-07-13T06:58:50.845291Z",
     "iopub.status.idle": "2022-07-13T06:58:50.899470Z",
     "shell.execute_reply": "2022-07-13T06:58:50.895214Z"
    },
    "papermill": {
     "duration": 0.064296,
     "end_time": "2022-07-13T06:58:50.902626",
     "exception": false,
     "start_time": "2022-07-13T06:58:50.838330",
     "status": "completed"
    },
    "tags": []
   },
   "outputs": [
    {
     "name": "stdout",
     "output_type": "stream",
     "text": [
      "             LotArea    YearBuilt     1stFlrSF     2ndFlrSF     FullBath  \\\n",
      "count    1460.000000  1460.000000  1460.000000  1460.000000  1460.000000   \n",
      "mean    10516.828082  1971.267808  1162.626712   346.992466     1.565068   \n",
      "std      9981.264932    30.202904   386.587738   436.528436     0.550916   \n",
      "min      1300.000000  1872.000000   334.000000     0.000000     0.000000   \n",
      "25%      7553.500000  1954.000000   882.000000     0.000000     1.000000   \n",
      "50%      9478.500000  1973.000000  1087.000000     0.000000     2.000000   \n",
      "75%     11601.500000  2000.000000  1391.250000   728.000000     2.000000   \n",
      "max    215245.000000  2010.000000  4692.000000  2065.000000     3.000000   \n",
      "\n",
      "       BedroomAbvGr  TotRmsAbvGrd  \n",
      "count   1460.000000   1460.000000  \n",
      "mean       2.866438      6.517808  \n",
      "std        0.815778      1.625393  \n",
      "min        0.000000      2.000000  \n",
      "25%        2.000000      5.000000  \n",
      "50%        3.000000      6.000000  \n",
      "75%        3.000000      7.000000  \n",
      "max        8.000000     14.000000  \n",
      "   LotArea  YearBuilt  1stFlrSF  2ndFlrSF  FullBath  BedroomAbvGr  \\\n",
      "0     8450       2003       856       854         2             3   \n",
      "1     9600       1976      1262         0         2             3   \n",
      "2    11250       2001       920       866         2             3   \n",
      "3     9550       1915       961       756         1             3   \n",
      "4    14260       2000      1145      1053         2             4   \n",
      "\n",
      "   TotRmsAbvGrd  \n",
      "0             8  \n",
      "1             6  \n",
      "2             6  \n",
      "3             7  \n",
      "4             9  \n"
     ]
    }
   ],
   "source": [
    "# Review data\n",
    "# print description or statistics from X\n",
    "print(X.describe())\n",
    "\n",
    "# print the top few lines\n",
    "print(X.head())"
   ]
  },
  {
   "cell_type": "markdown",
   "id": "8ab5fe2b",
   "metadata": {
    "papermill": {
     "duration": 0.005474,
     "end_time": "2022-07-13T06:58:50.913762",
     "exception": false,
     "start_time": "2022-07-13T06:58:50.908288",
     "status": "completed"
    },
    "tags": []
   },
   "source": [
    "## Step 3: Specify and Fit Model\n",
    "Create a `DecisionTreeRegressor` and save it iowa_model. Ensure you've done the relevant import from sklearn to run this command.\n",
    "\n",
    "Then fit the model you just created using the data in `X` and `y` that you saved above."
   ]
  },
  {
   "cell_type": "code",
   "execution_count": 8,
   "id": "342fbe0f",
   "metadata": {
    "execution": {
     "iopub.execute_input": "2022-07-13T06:58:50.928520Z",
     "iopub.status.busy": "2022-07-13T06:58:50.928132Z",
     "iopub.status.idle": "2022-07-13T06:58:50.961076Z",
     "shell.execute_reply": "2022-07-13T06:58:50.957267Z"
    },
    "papermill": {
     "duration": 0.044418,
     "end_time": "2022-07-13T06:58:50.963770",
     "exception": false,
     "start_time": "2022-07-13T06:58:50.919352",
     "status": "completed"
    },
    "tags": []
   },
   "outputs": [
    {
     "data": {
      "application/javascript": [
       "parent.postMessage({\"jupyterEvent\": \"custom.exercise_interaction\", \"data\": {\"outcomeType\": 1, \"valueTowardsCompletion\": 0.25, \"interactionType\": 1, \"questionType\": 2, \"questionId\": \"3_CreateModel\", \"learnToolsVersion\": \"0.3.4\", \"failureMessage\": \"\", \"exceptionClass\": \"\", \"trace\": \"\"}}, \"*\")"
      ],
      "text/plain": [
       "<IPython.core.display.Javascript object>"
      ]
     },
     "metadata": {},
     "output_type": "display_data"
    },
    {
     "data": {
      "text/markdown": [
       "<span style=\"color:#33cc33\">Correct</span>"
      ],
      "text/plain": [
       "Correct"
      ]
     },
     "metadata": {},
     "output_type": "display_data"
    }
   ],
   "source": [
    "from sklearn.tree import DecisionTreeRegressor\n",
    "#specify the model. \n",
    "#For model reproducibility, set a numeric value for random_state when specifying the model\n",
    "iowa_model = DecisionTreeRegressor(random_state = 1)\n",
    "\n",
    "# Fit the model\n",
    "iowa_model.fit(X,y)\n",
    "\n",
    "# Check your answer\n",
    "step_3.check()"
   ]
  },
  {
   "cell_type": "code",
   "execution_count": 9,
   "id": "0e38afa4",
   "metadata": {
    "collapsed": true,
    "execution": {
     "iopub.execute_input": "2022-07-13T06:58:50.977216Z",
     "iopub.status.busy": "2022-07-13T06:58:50.976606Z",
     "iopub.status.idle": "2022-07-13T06:58:50.988528Z",
     "shell.execute_reply": "2022-07-13T06:58:50.986033Z"
    },
    "jupyter": {
     "outputs_hidden": true
    },
    "papermill": {
     "duration": 0.021741,
     "end_time": "2022-07-13T06:58:50.991190",
     "exception": false,
     "start_time": "2022-07-13T06:58:50.969449",
     "status": "completed"
    },
    "tags": []
   },
   "outputs": [],
   "source": [
    "# step_3.hint()\n",
    "# step_3.solution()"
   ]
  },
  {
   "cell_type": "markdown",
   "id": "6fd46bd1",
   "metadata": {
    "papermill": {
     "duration": 0.004911,
     "end_time": "2022-07-13T06:58:51.001259",
     "exception": false,
     "start_time": "2022-07-13T06:58:50.996348",
     "status": "completed"
    },
    "tags": []
   },
   "source": [
    "## Step 4: Make Predictions\n",
    "Make predictions with the model's `predict` command using `X` as the data. Save the results to a variable called `predictions`."
   ]
  },
  {
   "cell_type": "code",
   "execution_count": 10,
   "id": "241957d3",
   "metadata": {
    "execution": {
     "iopub.execute_input": "2022-07-13T06:58:51.022257Z",
     "iopub.status.busy": "2022-07-13T06:58:51.021933Z",
     "iopub.status.idle": "2022-07-13T06:58:51.041532Z",
     "shell.execute_reply": "2022-07-13T06:58:51.037469Z"
    },
    "papermill": {
     "duration": 0.034596,
     "end_time": "2022-07-13T06:58:51.045331",
     "exception": false,
     "start_time": "2022-07-13T06:58:51.010735",
     "status": "completed"
    },
    "tags": []
   },
   "outputs": [
    {
     "name": "stdout",
     "output_type": "stream",
     "text": [
      "[208500. 181500. 223500. ... 266500. 142125. 147500.]\n"
     ]
    },
    {
     "data": {
      "application/javascript": [
       "parent.postMessage({\"jupyterEvent\": \"custom.exercise_interaction\", \"data\": {\"outcomeType\": 1, \"valueTowardsCompletion\": 0.25, \"interactionType\": 1, \"questionType\": 2, \"questionId\": \"4_MakePredictions\", \"learnToolsVersion\": \"0.3.4\", \"failureMessage\": \"\", \"exceptionClass\": \"\", \"trace\": \"\"}}, \"*\")"
      ],
      "text/plain": [
       "<IPython.core.display.Javascript object>"
      ]
     },
     "metadata": {},
     "output_type": "display_data"
    },
    {
     "data": {
      "text/markdown": [
       "<span style=\"color:#33cc33\">Correct</span>"
      ],
      "text/plain": [
       "Correct"
      ]
     },
     "metadata": {},
     "output_type": "display_data"
    }
   ],
   "source": [
    "predictions = iowa_model.predict(X)\n",
    "print(predictions)\n",
    "\n",
    "# Check your answer\n",
    "step_4.check()"
   ]
  },
  {
   "cell_type": "code",
   "execution_count": 11,
   "id": "fdfc85c3",
   "metadata": {
    "collapsed": true,
    "execution": {
     "iopub.execute_input": "2022-07-13T06:58:51.060789Z",
     "iopub.status.busy": "2022-07-13T06:58:51.060283Z",
     "iopub.status.idle": "2022-07-13T06:58:51.071977Z",
     "shell.execute_reply": "2022-07-13T06:58:51.066304Z"
    },
    "jupyter": {
     "outputs_hidden": true
    },
    "papermill": {
     "duration": 0.026314,
     "end_time": "2022-07-13T06:58:51.077110",
     "exception": false,
     "start_time": "2022-07-13T06:58:51.050796",
     "status": "completed"
    },
    "tags": []
   },
   "outputs": [],
   "source": [
    "# step_4.hint()\n",
    "# step_4.solution()"
   ]
  },
  {
   "cell_type": "markdown",
   "id": "af76cb57",
   "metadata": {
    "papermill": {
     "duration": 0.011101,
     "end_time": "2022-07-13T06:58:51.099037",
     "exception": false,
     "start_time": "2022-07-13T06:58:51.087936",
     "status": "completed"
    },
    "tags": []
   },
   "source": [
    "## Think About Your Results\n",
    "\n",
    "Use the `head` method to compare the top few predictions to the actual home values (in `y`) for those same homes. Anything surprising?\n"
   ]
  },
  {
   "cell_type": "code",
   "execution_count": 12,
   "id": "bf628d12",
   "metadata": {
    "execution": {
     "iopub.execute_input": "2022-07-13T06:58:51.121386Z",
     "iopub.status.busy": "2022-07-13T06:58:51.120896Z",
     "iopub.status.idle": "2022-07-13T06:58:51.132925Z",
     "shell.execute_reply": "2022-07-13T06:58:51.131897Z"
    },
    "papermill": {
     "duration": 0.027575,
     "end_time": "2022-07-13T06:58:51.137075",
     "exception": false,
     "start_time": "2022-07-13T06:58:51.109500",
     "status": "completed"
    },
    "tags": []
   },
   "outputs": [
    {
     "name": "stdout",
     "output_type": "stream",
     "text": [
      "   LotArea  YearBuilt  1stFlrSF  2ndFlrSF  FullBath  BedroomAbvGr  \\\n",
      "0     8450       2003       856       854         2             3   \n",
      "1     9600       1976      1262         0         2             3   \n",
      "2    11250       2001       920       866         2             3   \n",
      "3     9550       1915       961       756         1             3   \n",
      "4    14260       2000      1145      1053         2             4   \n",
      "\n",
      "   TotRmsAbvGrd  \n",
      "0             8  \n",
      "1             6  \n",
      "2             6  \n",
      "3             7  \n",
      "4             9  \n",
      "The predictions are :\n",
      "[208500. 181500. 223500. 140000. 250000.]\n"
     ]
    }
   ],
   "source": [
    "# You can write code in this cell\n",
    "print(X.head())\n",
    "print(\"The predictions are :\")\n",
    "print(iowa_model.predict(X.head()))"
   ]
  },
  {
   "cell_type": "markdown",
   "id": "584f0b6e",
   "metadata": {
    "papermill": {
     "duration": 0.007259,
     "end_time": "2022-07-13T06:58:51.150465",
     "exception": false,
     "start_time": "2022-07-13T06:58:51.143206",
     "status": "completed"
    },
    "tags": []
   },
   "source": [
    "It's natural to ask how accurate the model's predictions will be and how you can improve that. That will be you're next step.\n",
    "\n",
    "# Keep Going\n",
    "\n",
    "You are ready for **[Model Validation](https://www.kaggle.com/dansbecker/model-validation).**\n"
   ]
  },
  {
   "cell_type": "markdown",
   "id": "ed1d8eab",
   "metadata": {
    "papermill": {
     "duration": 0.005449,
     "end_time": "2022-07-13T06:58:51.163742",
     "exception": false,
     "start_time": "2022-07-13T06:58:51.158293",
     "status": "completed"
    },
    "tags": []
   },
   "source": [
    "---\n",
    "\n",
    "\n",
    "\n",
    "\n",
    "*Have questions or comments? Visit the [course discussion forum](https://www.kaggle.com/learn/intro-to-machine-learning/discussion) to chat with other learners.*"
   ]
  }
 ],
 "metadata": {
  "kernelspec": {
   "display_name": "Python 3",
   "language": "python",
   "name": "python3"
  },
  "language_info": {
   "codemirror_mode": {
    "name": "ipython",
    "version": 3
   },
   "file_extension": ".py",
   "mimetype": "text/x-python",
   "name": "python",
   "nbconvert_exporter": "python",
   "pygments_lexer": "ipython3",
   "version": "3.7.12"
  },
  "papermill": {
   "default_parameters": {},
   "duration": 23.103785,
   "end_time": "2022-07-13T06:58:54.208674",
   "environment_variables": {},
   "exception": null,
   "input_path": "__notebook__.ipynb",
   "output_path": "__notebook__.ipynb",
   "parameters": {},
   "start_time": "2022-07-13T06:58:31.104889",
   "version": "2.3.4"
  }
 },
 "nbformat": 4,
 "nbformat_minor": 5
}
